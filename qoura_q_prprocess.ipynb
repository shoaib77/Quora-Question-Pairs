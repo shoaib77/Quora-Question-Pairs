{
  "cells": [
    {
      "metadata": {
        "_uuid": "8f2839f25d086af736a60e9eeb907d3b93b6e0e5",
        "_cell_guid": "b1076dfc-b9ad-4769-8c92-a6c4dae69d19"
      },
      "cell_type": "markdown",
      "source": "# Importing Modules"
    },
    {
      "metadata": {
        "collapsed": true,
        "_uuid": "d629ff2d2480ee46fbb7e2d37f6b5fab8052498a",
        "_cell_guid": "79c7e3d0-c299-4dcb-8224-4455121ee9b0",
        "trusted": false
      },
      "cell_type": "code",
      "source": "import numpy as np \nimport pandas as pd \nimport matplotlib.pyplot as plt\nimport seaborn as sns",
      "execution_count": null,
      "outputs": []
    },
    {
      "metadata": {
        "collapsed": true,
        "_uuid": "3dfc5908cac5666c749deb45e63297dc495072bf",
        "_cell_guid": "3f90c30d-0a69-45f4-a3fd-52ebef729620",
        "trusted": false
      },
      "cell_type": "code",
      "source": "train = pd.read_csv('../input/train.csv')\ntest = pd.read_csv('../input/test.csv')",
      "execution_count": null,
      "outputs": []
    },
    {
      "metadata": {
        "_uuid": "4cf9b7161b6cb07e63256fba6fea059f08a3e4cc",
        "_cell_guid": "c3b2d7ee-90d8-40c9-9f27-48e7fc51581c",
        "trusted": false,
        "collapsed": true
      },
      "cell_type": "code",
      "source": "train.head()",
      "execution_count": null,
      "outputs": []
    },
    {
      "metadata": {
        "_uuid": "e516056190071c1e93ab021eb81b9eb6a69028a6",
        "_cell_guid": "63f7f3b8-c423-4552-b925-cb7d0b13ac8c",
        "trusted": false,
        "collapsed": true
      },
      "cell_type": "code",
      "source": "train.info()",
      "execution_count": null,
      "outputs": []
    },
    {
      "metadata": {
        "_uuid": "f5100f75cd1749ea93668a74c9f21a7bae82544d",
        "_cell_guid": "afafd4a6-06a1-4402-8149-5dad7db225e4",
        "trusted": false,
        "collapsed": true
      },
      "cell_type": "code",
      "source": "test.info()",
      "execution_count": null,
      "outputs": []
    },
    {
      "metadata": {
        "collapsed": true,
        "_uuid": "a027cb4c55614c34f5e3759f25fb51aa2416d379",
        "_cell_guid": "ccd76f28-6813-4a84-9712-1084c503ea35",
        "trusted": false
      },
      "cell_type": "code",
      "source": "que1 = train['question1'][3]\nque2 = train['question2'][3]",
      "execution_count": null,
      "outputs": []
    },
    {
      "metadata": {
        "_uuid": "2f8417f6b94649b36564ca64bce419903d1f629c",
        "_cell_guid": "00d1281e-c7a8-4435-8a8c-80642c4c600c",
        "trusted": false,
        "collapsed": true
      },
      "cell_type": "code",
      "source": "print(que1,que2)",
      "execution_count": null,
      "outputs": []
    },
    {
      "metadata": {
        "_uuid": "4c2c249970821f030cc14ce18219b8d6ffe30ff0",
        "_cell_guid": "c0197a1a-0711-4fd6-8ba3-fe72c67143f4",
        "trusted": false,
        "collapsed": true
      },
      "cell_type": "code",
      "source": "grouped = train.groupby('is_duplicate').is_duplicate.count()\ntotal = grouped[0] + grouped[1]\nsim_per = grouped[1] / total\nno_sim_per = grouped[0] / total\nprint((\"The similar data is {} percent and {} percent are not similar\").format(sim_per,no_sim_per))",
      "execution_count": null,
      "outputs": []
    },
    {
      "metadata": {
        "_uuid": "9c0867df9683244f6150e5ca51dc1c956f26870b",
        "_cell_guid": "872dc885-538d-4553-b630-2a39c631380d"
      },
      "cell_type": "markdown",
      "source": "# Starting preprocessing"
    },
    {
      "metadata": {
        "collapsed": true,
        "_uuid": "7528200c0a9c9004551f3764dcba97988e36fae3",
        "_cell_guid": "78f50589-0fbd-432d-aadf-26ad8c180334",
        "trusted": false
      },
      "cell_type": "code",
      "source": "import string\nimport re    \nimport nltk\nfrom sklearn.feature_extraction.text import TfidfVectorizer, CountVectorizer, HashingVectorizer\nfrom sklearn.decomposition import TruncatedSVD\nfrom nltk.corpus import stopwords\nfrom nltk import wordpunct_tokenize\nfrom nltk import WordNetLemmatizer\nfrom nltk import sent_tokenize\nfrom nltk import pos_tag\nfrom nltk.corpus import wordnet as wn",
      "execution_count": null,
      "outputs": []
    },
    {
      "metadata": {
        "collapsed": true,
        "_uuid": "b721235897c5e298d4bd0a770e9e60c5da920a0c",
        "_cell_guid": "9fbe866e-2272-4a45-92ee-291943f064e4",
        "trusted": false
      },
      "cell_type": "code",
      "source": "stoplist = set(stopwords.words(\"english\"))\n%matplotlib inline",
      "execution_count": null,
      "outputs": []
    },
    {
      "metadata": {
        "collapsed": true,
        "_uuid": "05dd2f655bb3c250cecedda1f62fd971d435f130",
        "_cell_guid": "d0908e58-917b-4075-b621-4694dd46401c",
        "trusted": false
      },
      "cell_type": "code",
      "source": "replacement_patterns = [  \n    (r'won\\'t', 'will not'),  \n    (r'can\\'t', 'cannot'),  \n    (r'i\\'m', 'i am'),  \n    (r'ain\\'t', 'is not'),  \n    (r'(\\w+)\\'ll', '\\g<1> will'),  \n    (r'(\\w+)n\\'t', '\\g<1> not'),  \n    (r'(\\w+)\\'ve', '\\g<1> have'),  \n    (r'(\\w+)\\'s', '\\g<1> is'),  \n    (r'(\\w+)\\'re', '\\g<1> are'),  \n    (r'(\\w+)\\'d', '\\g<1> would')\n]\n\nclass RegexpReplacer(object):  \n    def __init__(self, patterns=replacement_patterns):    \n        self.patterns = [(re.compile(regex), repl) for (regex, repl) in patterns]  \n        \n    def replace(self, text):    \n        s = text    \n        for (pattern, repl) in self.patterns:      \n            s = re.sub(pattern, repl, s)    \n        return s",
      "execution_count": null,
      "outputs": []
    },
    {
      "metadata": {
        "collapsed": true,
        "_uuid": "c179d4106280ec28df21c70fba3b21e3ecf4a77b",
        "_cell_guid": "79efe4fe-724b-4bcf-8361-3ecf5ce96196",
        "trusted": false
      },
      "cell_type": "code",
      "source": "class Remove_Noise(object):\n    \n    def __init__(self,stop_word = stoplist):\n        self.stop_word = stoplist\n    \n    def noise_rm(self,doc):\n        doc = re.sub('[#$%^&\\',:()*+/<=>@[\\\\]^_``{|}~]',' ',doc)\n        doc = re.sub('[0-9]+',' ',doc)\n        doc = re.sub('\\n','',doc)\n        doc = re.sub(' +',' ',doc)\n        doc = doc.lower()\n        return doc\n    \n    def lemmatize(self,token, tag):\n        tag = {\n            'N': wn.NOUN,\n            'V': wn.VERB,\n            'R': wn.ADV,\n            'J': wn.ADJ\n        }.get(tag[0], wn.NOUN)\n        lemmatizer = WordNetLemmatizer()\n        return lemmatizer.lemmatize(token, tag)\n    \n    def tokenize(self,document): \n        #document = unicode(document,'utf-8')\n        lemmy = []\n        for sent in sent_tokenize(document):\n            for token, tag in pos_tag(wordpunct_tokenize(sent)):\n                if token in self.stop_word:\n                    continue\n                lemma = self.lemmatize(token, tag)\n                lemmy.append(lemma)\n        return lemmy\n    \n    def join_tokens(self,data):\n        ans = ' '.join(data)\n        return ans",
      "execution_count": null,
      "outputs": []
    },
    {
      "metadata": {
        "collapsed": true,
        "_uuid": "59d3448217dadbc4bf2ed3f71d853c5053422911",
        "_cell_guid": "f6c6a275-e761-47f7-ba85-3cc105453718",
        "trusted": false
      },
      "cell_type": "code",
      "source": "replacer = RegexpReplacer()\nremover = Remove_Noise()",
      "execution_count": null,
      "outputs": []
    },
    {
      "metadata": {
        "collapsed": true,
        "_uuid": "8139bbdd943463f5193f26fb8b486dd24041ee06",
        "_cell_guid": "30dde326-84ac-4a82-b246-fe955c270f32",
        "trusted": false
      },
      "cell_type": "code",
      "source": "def do_all(data):\n    rep = replacer.replace(data)\n    token = remover.tokenize(rep)\n    senten = remover.join_tokens(token)\n    return senten\n    ",
      "execution_count": null,
      "outputs": []
    },
    {
      "metadata": {
        "collapsed": true,
        "_uuid": "8ba24e75668a7e45eb86b900fe4970a886a7742c",
        "_cell_guid": "30105fcb-7cea-48f6-9e59-30a82877db21",
        "trusted": false
      },
      "cell_type": "code",
      "source": "train['question1'].fillna(' ', inplace=True)\ntrain['question2'].fillna(' ', inplace=True)\ntest['question1'].fillna(' ', inplace=True)\ntest['question2'].fillna(' ', inplace=True)",
      "execution_count": null,
      "outputs": []
    },
    {
      "metadata": {
        "collapsed": true,
        "_uuid": "b6f46df9d3730db3dea90278174d15d0ef68eaa2",
        "_cell_guid": "b09497e6-294b-4fea-942c-4da10f127553",
        "trusted": false
      },
      "cell_type": "code",
      "source": "train['comment_full1'] = train['question1'].apply(do_all)\ntrain['comment_full2'] = train['question2'].apply(do_all)\ntest['comment_full1'] = test['question1'].apply(do_all)\ntest['comment_full2'] = test['question2'].apply(do_all)",
      "execution_count": null,
      "outputs": []
    },
    {
      "metadata": {
        "collapsed": true,
        "_uuid": "350b075a21a1f9c5c0b69fd6b9dfd8158d7bd4ac",
        "_cell_guid": "4567b1c1-10d7-4246-a4cb-579debd386a0",
        "trusted": false
      },
      "cell_type": "code",
      "source": "train.to_pickle('train_processed.pkl')\n#test.to_pickle('test_processed.pkl')",
      "execution_count": null,
      "outputs": []
    },
    {
      "metadata": {
        "collapsed": true,
        "_uuid": "9bd64595a3f4b3c4e38d9924e08d39aa50f98339",
        "_cell_guid": "afdbb19b-f631-44b9-bdef-7da7dd242f31",
        "trusted": false
      },
      "cell_type": "code",
      "source": "test.to_pickle('test_processed.pkl')",
      "execution_count": null,
      "outputs": []
    },
    {
      "metadata": {
        "collapsed": true,
        "_uuid": "14d8793029b2ab454dae0c205c7530abd5e7832e",
        "_cell_guid": "a0bb9693-9630-4974-8c91-5e6e85fe4c89",
        "trusted": false
      },
      "cell_type": "code",
      "source": "",
      "execution_count": null,
      "outputs": []
    },
    {
      "metadata": {
        "collapsed": true,
        "_uuid": "3551dfaf03672a40bb29bafcdc3561e61c1ec394",
        "_cell_guid": "ced5d078-5016-43d7-9a3c-b28d42c00b49",
        "trusted": false
      },
      "cell_type": "code",
      "source": "",
      "execution_count": null,
      "outputs": []
    }
  ],
  "metadata": {
    "kernelspec": {
      "display_name": "Python 3",
      "language": "python",
      "name": "python3"
    },
    "language_info": {
      "file_extension": ".py",
      "pygments_lexer": "ipython3",
      "nbconvert_exporter": "python",
      "version": "3.6.4",
      "codemirror_mode": {
        "version": 3,
        "name": "ipython"
      },
      "name": "python",
      "mimetype": "text/x-python"
    }
  },
  "nbformat": 4,
  "nbformat_minor": 1
}
